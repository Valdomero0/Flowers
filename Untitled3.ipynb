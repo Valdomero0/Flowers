{
 "cells": [
  {
   "cell_type": "code",
   "execution_count": 2,
   "id": "97085a65",
   "metadata": {},
   "outputs": [
    {
     "ename": "Terminator",
     "evalue": "",
     "output_type": "error",
     "traceback": [
      "\u001b[1;31m---------------------------------------------------------------------------\u001b[0m",
      "\u001b[1;31mTerminator\u001b[0m                                Traceback (most recent call last)",
      "\u001b[1;32m~\\AppData\\Local\\Temp/ipykernel_6956/932414067.py\u001b[0m in \u001b[0;36m<module>\u001b[1;34m\u001b[0m\n\u001b[0;32m     55\u001b[0m \u001b[0mtur\u001b[0m\u001b[1;33m.\u001b[0m\u001b[0mdone\u001b[0m\u001b[1;33m(\u001b[0m\u001b[1;33m)\u001b[0m\u001b[1;33m\u001b[0m\u001b[1;33m\u001b[0m\u001b[0m\n\u001b[0;32m     56\u001b[0m \u001b[1;33m\u001b[0m\u001b[0m\n\u001b[1;32m---> 57\u001b[1;33m \u001b[0mmainloop\u001b[0m\u001b[1;33m(\u001b[0m\u001b[1;33m)\u001b[0m\u001b[1;33m\u001b[0m\u001b[1;33m\u001b[0m\u001b[0m\n\u001b[0m\u001b[0;32m     58\u001b[0m \u001b[1;33m\u001b[0m\u001b[0m\n\u001b[0;32m     59\u001b[0m \u001b[1;33m\u001b[0m\u001b[0m\n",
      "\u001b[1;32m~\\anaconda3\\lib\\turtle.py\u001b[0m in \u001b[0;36mmainloop\u001b[1;34m()\u001b[0m\n",
      "\u001b[1;31mTerminator\u001b[0m: "
     ]
    }
   ],
   "source": [
    "from turtle import*\n",
    "import turtle as tur\n",
    "import math\n",
    "\n",
    "title(\"Girasol\")\n",
    "bgcolor('black')\n",
    "fillcolor(\"green\")\n",
    "begin_fill()\n",
    "pencolor('black')\n",
    "\n",
    "forward(7)\n",
    "right(90)\n",
    "forward(300)\n",
    "right(90)\n",
    "forward(15)\n",
    "right(90)\n",
    "forward(300)\n",
    "right(90)\n",
    "end_fill()\n",
    "\n",
    "speed(0) \n",
    "fillcolor('brown')\n",
    "\n",
    "s = 137.508 *(math.pi / 180.0)\n",
    "\n",
    "for i in range (160 + 40):\n",
    "    r = 4* math.sqrt(i)\n",
    "    f = i * s\n",
    "    o = r * math.cos(f)\n",
    "    p = r * math.sin(f)\n",
    "    penup()\n",
    "    goto(o,p)\n",
    "    setheading(i* 137.508)\n",
    "    pendown()\n",
    "    if i < 160: \n",
    "        stamp()\n",
    "    else:\n",
    "        fillcolor('yellow')\n",
    "        begin_fill()\n",
    "        right (20)\n",
    "        forward(46)\n",
    "        left(40)\n",
    "        forward(70)\n",
    "        left(140)\n",
    "        forward(70)\n",
    "        left(40)\n",
    "        forward (70)\n",
    "        end_fill()\n",
    "        hideturtle()\n",
    "    \n",
    "tur.color('yellow')\n",
    "style = ('Courier',30,'bold')\n",
    "tur.goto(-170,200)\n",
    "tur.write('Para ti mi vida ♡', font= style)\n",
    "tur.done()\n",
    "\n",
    "mainloop()\n",
    "\n",
    "\n"
   ]
  },
  {
   "cell_type": "code",
   "execution_count": 3,
   "id": "d4fd8160",
   "metadata": {},
   "outputs": [],
   "source": []
  },
  {
   "cell_type": "code",
   "execution_count": null,
   "id": "cfbc17f4",
   "metadata": {},
   "outputs": [],
   "source": []
  }
 ],
 "metadata": {
  "kernelspec": {
   "display_name": "Python 3 (ipykernel)",
   "language": "python",
   "name": "python3"
  },
  "language_info": {
   "codemirror_mode": {
    "name": "ipython",
    "version": 3
   },
   "file_extension": ".py",
   "mimetype": "text/x-python",
   "name": "python",
   "nbconvert_exporter": "python",
   "pygments_lexer": "ipython3",
   "version": "3.9.7"
  }
 },
 "nbformat": 4,
 "nbformat_minor": 5
}
